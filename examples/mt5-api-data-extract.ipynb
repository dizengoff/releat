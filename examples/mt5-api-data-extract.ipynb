{
 "cells": [
  {
   "cell_type": "markdown",
   "metadata": {},
   "source": [
    "# Data extraction via MT5 Api\n",
    "\n",
    "Each trading symbol has its own process for the wine mt5 api. This is so that in production, we're able to reduce latency (at the cost of higher memory consumption) by pulling from one or more brokers in parallel.\n",
    "\n",
    "### IMPORTANT - start mt5 apis\n",
    "\n",
    "Before running this notebooks, first launch the mt5 apis from the terminal using the command: releat launch-all-mt5-apis\n",
    "\n",
    "Launching wine processes from jupyter notebooks is unstable and mostly fails to start"
   ]
  },
  {
   "cell_type": "code",
   "execution_count": null,
   "metadata": {},
   "outputs": [],
   "source": [
    "from releat.utils.configs.constants import mt5_api_port_map\n",
    "import requests\n",
    "from concurrent.futures import ThreadPoolExecutor\n",
    "from releat.workflows.service_manager import kill_processes, get_pids, stop_mt5\n",
    "from releat.utils.logging import get_logger\n",
    "import logging\n",
    "logger = get_logger(__name__, log_level=logging.INFO)"
   ]
  },
  {
   "cell_type": "code",
   "execution_count": null,
   "metadata": {},
   "outputs": [],
   "source": [
    "broker_symbol_ports = []\n",
    "for broker, port_map in mt5_api_port_map.items():\n",
    "    for symbol, port in port_map.items():\n",
    "        try:\n",
    "            requests.get(f\"http://127.0.0.1:{port}/healthcheck\").json()\n",
    "            logger.info(f\"healthcheck {broker} {symbol} on port {port} success\")\n",
    "            if symbol != \"general\":\n",
    "                broker_symbol_ports.append([broker,symbol,port])\n",
    "        except:\n",
    "            logger.error(\"Check that mt5 apis have been started - See the first markdown cell of this notebook\")"
   ]
  },
  {
   "cell_type": "code",
   "execution_count": null,
   "metadata": {},
   "outputs": [],
   "source": [
    "def get_data(broker_symbol_port):\n",
    "    \"\"\"Simple function to download data\"\"\"\n",
    "    _, symbol, port = broker_symbol_port\n",
    "    \n",
    "    d_request = {\n",
    "        \"symbol\": symbol,\n",
    "        \"dt0\": \"2023-09-06 12:00:00.000\",\n",
    "        \"dt1\": \"2023-09-06 13:01:00.000\",\n",
    "    }\n",
    "\n",
    "    data = requests.get(\n",
    "        f\"http://127.0.0.1:{port}/get_tick_data\",\n",
    "        json=d_request,\n",
    "        timeout=120,\n",
    "    ).json()\n",
    "    \n",
    "    return data"
   ]
  },
  {
   "cell_type": "code",
   "execution_count": null,
   "metadata": {},
   "outputs": [],
   "source": [
    "# show example output of function\n",
    "get_data(broker_symbol_ports)[:3]"
   ]
  },
  {
   "cell_type": "markdown",
   "metadata": {},
   "source": [
    "### Compare data extraction speed\n",
    "\n",
    "When run in parallel, the time taken to download data is at least 2x as fast as compared to in sequence. Note results will vary depending on internet speed and whether results are cached"
   ]
  },
  {
   "cell_type": "code",
   "execution_count": null,
   "metadata": {},
   "outputs": [],
   "source": [
    "%%timeit\n",
    "for broker_symbol_port in broker_symbol_ports:\n",
    "    get_data(broker_symbol_port)"
   ]
  },
  {
   "cell_type": "code",
   "execution_count": null,
   "metadata": {},
   "outputs": [],
   "source": [
    "pool = ThreadPoolExecutor(5)"
   ]
  },
  {
   "cell_type": "code",
   "execution_count": null,
   "metadata": {},
   "outputs": [],
   "source": [
    "%%timeit\n",
    "list(pool.map(get_data,broker_symbol_ports))"
   ]
  },
  {
   "cell_type": "markdown",
   "metadata": {},
   "source": [
    "### Clean processes by deleting MT5 instances and apis"
   ]
  },
  {
   "cell_type": "code",
   "execution_count": null,
   "metadata": {},
   "outputs": [],
   "source": [
    "# kill mt5\n",
    "stop_mt5()"
   ]
  },
  {
   "cell_type": "code",
   "execution_count": null,
   "metadata": {},
   "outputs": [],
   "source": [
    "# kill mt5 api process ids\n",
    "pids = get_pids(\"wineserver\")\n",
    "kill_processes(pids)\n",
    "print(f\"mt5 apis stopped - process ids {pids} killed\")\n",
    "\n",
    "# kill wine processes\n",
    "pids = get_pids(\"python.exe\")\n",
    "kill_processes(pids)"
   ]
  }
 ],
 "metadata": {
  "kernelspec": {
   "display_name": "Python 3",
   "language": "python",
   "name": "python3"
  },
  "language_info": {
   "codemirror_mode": {
    "name": "ipython",
    "version": 3
   },
   "file_extension": ".py",
   "mimetype": "text/x-python",
   "name": "python",
   "nbconvert_exporter": "python",
   "pygments_lexer": "ipython3",
   "version": "3.10.10"
  }
 },
 "nbformat": 4,
 "nbformat_minor": 2
}
